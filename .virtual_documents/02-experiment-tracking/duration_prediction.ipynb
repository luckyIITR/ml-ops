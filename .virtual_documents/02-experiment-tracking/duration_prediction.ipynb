import pandas as pd
import seaborn as sns
import matplotlib.pyplot as plt
from sklearn.feature_extraction import DictVectorizer
from sklearn.linear_model import LinearRegression, Ridge, Lasso
from sklearn.metrics import root_mean_squared_error
import pickle


import mlflow
mlflow.set_tracking_uri('sqlite:///mlflow.db')
mlflow.set_experiment('nyc-taxi-experiment')


df = pd.read_parquet('https://d37ci6vzurychx.cloudfront.net/trip-data/yellow_tripdata_2025-01.parquet')


df.head()


df = df[:10000].copy()


df['duration'] = (df.tpep_dropoff_datetime - df.tpep_pickup_datetime).apply(lambda tz: tz.seconds / 60)


sns.histplot(df['duration'], kde=True)


df['duration'].describe(percentiles = [.98, 0.99])


df = df[((df.duration >= 1) & (df.duration <= 60))]


categorical = ['PULocationID', 'DOLocationID']
numerical = ['trip_distance']


df[categorical] = df[categorical].astype(str)


train_dicts = df[categorical + numerical].to_dict(orient = 'records')

dv = DictVectorizer()
X_train = dv.fit_transform(train_dicts)


X_train.toarray()


target = 'duration'
y_train = df[target].values


y_train


with mlflow.start_run():
    mlflow.set_tag('developer', 'Lucky')
    mlflow.log_param('train_data', 'https://d37ci6vzurychx.cloudfront.net/trip-data/yellow_tripdata_2025-01.parquet')

    lr = LinearRegression()
    lr.fit(X_train, y_train)
    
    y_pred = lr.predict(X_train)
    
    rmse = root_mean_squared_error(y_train, y_pred)
    mlflow.log_metric('rmse', rmse)





sns.histplot(y_train, kde=True, label='actual')
sns.histplot(y_pred, kde=True, label='pred')

plt.legend()


with open('models/lin_reg.bin', 'wb') as f_out:
    pickle.dump((dv, lr), f_out)


lr = Ridge()
lr.fit(X_train, y_train)

y_pred = lr.predict(X_train)

root_mean_squared_error(y_train, y_pred)


lr = Lasso()
lr.fit(X_train, y_train)

y_pred = lr.predict(X_train)

root_mean_squared_error(y_train, y_pred)



